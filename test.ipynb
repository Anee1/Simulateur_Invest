{
 "cells": [
  {
   "cell_type": "code",
   "execution_count": null,
   "id": "7c3d9c7a",
   "metadata": {},
   "outputs": [
    {
     "data": {
      "text/plain": [
       "[np.int64(-3), np.int64(-3), np.int64(3)]"
      ]
     },
     "execution_count": 67,
     "metadata": {},
     "output_type": "execute_result"
    }
   ],
   "source": [
    "import numpy as np\n",
    "\n",
    "A = np.array([5,6,9])\n",
    "B =np.array([8,9,6])\n",
    "\n"
   ]
  },
  {
   "cell_type": "code",
   "execution_count": 36,
   "id": "20f86be1",
   "metadata": {},
   "outputs": [
    {
     "name": "stdout",
     "output_type": "stream",
     "text": [
      "Valeurs annuelles : [11664.0, 12597.12, 13604.89, 14693.28, 15868.74]\n"
     ]
    }
   ],
   "source": [
    "valeurs = simulation(10000, 5, 0.08, 0, ' ', 2)\n",
    "print(\"Valeurs annuelles :\", valeurs)\n"
   ]
  },
  {
   "cell_type": "code",
   "execution_count": 59,
   "id": "c4ddd4fe",
   "metadata": {},
   "outputs": [],
   "source": [
    "def simulation(montant_initial, \n",
    "               duree_investissement, \n",
    "               taux_rendement, \n",
    "               montant_periodique=0, \n",
    "               frequence='Mensuelle', \n",
    "               annees_contributions=3):\n",
    "    \"\"\"\n",
    "    Évalue la valeur finale d’un investissement avec capitalisation.\n",
    "\n",
    "    Paramètres :\n",
    "        montant_initial (float) : Capital de départ.\n",
    "        duree_investissement (int) : Durée totale en années.\n",
    "        taux_rendement (float) : Rendement annuel (ex : 0.05 pour 5%).\n",
    "        montant_periodique (float) : Versement périodique (par défaut 0).\n",
    "        frequence (str) : 'Mensuelle' ou 'Annuelle'.\n",
    "        annees_contributions (int) : Durée des versements périodiques (en années).\n",
    "    \n",
    "    Retourne :\n",
    "        list : Valeur du portefeuille à la fin de chaque année.\n",
    "        float : Valeur finale estimée.\n",
    "    \"\"\"\n",
    "\n",
    "    if frequence.lower() == 'mensuelle':\n",
    "        periodes_par_an = 12\n",
    "    elif frequence.lower() == 'trimestrielle':\n",
    "        periodes_par_an = 4\n",
    "    else:\n",
    "        periodes_par_an = 1  # annuelle\n",
    "\n",
    "    rendement_par_periode = taux_rendement / periodes_par_an\n",
    "    total_periodes = duree_investissement * periodes_par_an\n",
    "    periodes_contributions = annees_contributions * periodes_par_an\n",
    "\n",
    "    valeur = montant_initial\n",
    "    valeurs_annuelles = []\n",
    "\n",
    "    for periode in range(1, int(total_periodes) + 1):\n",
    "        # D'abord, appliquer le rendement sur le capital existant\n",
    "        valeur *= (1 + rendement_par_periode)\n",
    "\n",
    "        # Ensuite, verser la contribution (à partir de la 2e période)\n",
    "        if periode <= periodes_contributions and periode > 1:\n",
    "            valeur += montant_periodique\n",
    "\n",
    "        # Stocker la valeur à la fin de chaque année\n",
    "        if periode % periodes_par_an == 0:\n",
    "            valeurs_annuelles.append(round(valeur, 2))\n",
    "\n",
    "    #valeur_finale = round(valeur, 2)\n",
    "    return valeurs_annuelles\n"
   ]
  },
  {
   "cell_type": "code",
   "execution_count": 61,
   "id": "34526ffe",
   "metadata": {},
   "outputs": [
    {
     "data": {
      "text/plain": [
       "[10600.0, 21292.0, 22569.52, 23923.69, 25359.11, 26880.66]"
      ]
     },
     "execution_count": 61,
     "metadata": {},
     "output_type": "execute_result"
    }
   ],
   "source": [
    "valeurs= simulation(10000, 6, 0.06, 10056, '', 2)\n",
    "valeurs"
   ]
  },
  {
   "cell_type": "code",
   "execution_count": 80,
   "id": "c8a36ce6",
   "metadata": {},
   "outputs": [],
   "source": [
    "def montant_epargne_cible(depense_annuelle, duree_mois, taux_rendement_annuel, type_contribution='mensuelle'):\n",
    "    \"\"\"\n",
    "    Estime le montant à épargner pour atteindre une valeur future cible.\n",
    "\n",
    "    Paramètres :\n",
    "        valeur_future (float) : Montant souhaité à terme (ex: 1_000_000).\n",
    "        duree_mois (int) : Durée totale de l’investissement en mois.\n",
    "        taux_rendement_annuel (float) : Taux de rendement annuel (ex: 0.06 pour 6%).\n",
    "        type_contribution (str) : 'mensuelle', 'annuelle' ou 'unique'.\n",
    "\n",
    "    Retourne :\n",
    "        float : Montant à épargner selon le type choisi.\n",
    "    \"\"\"\n",
    "    Capital_necessaire = depense_annuelle / taux_rendement_annuel\n",
    "    \n",
    "\n",
    "    # Conversion du taux annuel en taux mensuel\n",
    "    taux_mensuel = (1 + taux_rendement_annuel) ** (1 / 12) - 1\n",
    "\n",
    "    # Cas 1 : contribution unique\n",
    "    if type_contribution.lower() == 'unique':\n",
    "        montant = Capital_necessaire / ((1 + taux_mensuel) ** duree_mois)\n",
    "\n",
    "    # Cas 2 : contributions mensuelles\n",
    "    elif type_contribution.lower() == 'mensuelle':\n",
    "        if taux_mensuel == 0:\n",
    "            montant = Capital_necessaire / duree_mois\n",
    "        else:\n",
    "            montant = Capital_necessaire * taux_mensuel / ((1 + taux_mensuel) ** duree_mois - 1)\n",
    "\n",
    "    # Cas 3 : contributions annuelles\n",
    "    elif type_contribution.lower() == 'annuelle':\n",
    "        duree_annees = duree_mois / 12\n",
    "        taux_annuel = taux_rendement_annuel\n",
    "        if taux_annuel == 0:\n",
    "            montant = Capital_necessaire / duree_annees\n",
    "        else:\n",
    "            montant = Capital_necessaire * taux_annuel / ((1 + taux_annuel) ** duree_annees - 1)\n",
    "\n",
    "    else:\n",
    "        raise ValueError(\"type_contribution doit être 'mensuelle', 'annuelle' ou 'unique'.\")\n",
    "\n",
    "    return montant\n"
   ]
  },
  {
   "cell_type": "code",
   "execution_count": 83,
   "id": "7e38277a",
   "metadata": {},
   "outputs": [
    {
     "name": "stdout",
     "output_type": "stream",
     "text": [
      "Montant mensuel à épargner : 1,153,907 FCFA\n",
      "Montant unique à investir : 13,351,135 FCFA\n"
     ]
    }
   ],
   "source": [
    "# Objectif : disposer de 10 000 000 FCFA dans 10 ans (120 mois) avec un rendement de 7 % par an.\n",
    "valeur_future = 1_000_000\n",
    "duree_mois = 12\n",
    "taux = 0.07\n",
    "\n",
    "mensuel = montant_epargne_cible(valeur_future, duree_mois, taux, 'mensuelle')\n",
    "unique = montant_epargne_cible(valeur_future, duree_mois, taux, 'unique')\n",
    "\n",
    "print(f\"Montant mensuel à épargner : {mensuel:,.0f} FCFA\")\n",
    "print(f\"Montant unique à investir : {unique:,.0f} FCFA\")\n",
    "\n"
   ]
  },
  {
   "cell_type": "code",
   "execution_count": 84,
   "id": "96dcbbf5",
   "metadata": {},
   "outputs": [],
   "source": [
    "taux_mensuel = (1 +0.07) ** (1 / 12) - 1"
   ]
  },
  {
   "cell_type": "code",
   "execution_count": 86,
   "id": "c85167ea",
   "metadata": {},
   "outputs": [
    {
     "data": {
      "text/plain": [
       "14285714.450000001"
      ]
     },
     "execution_count": 86,
     "metadata": {},
     "output_type": "execute_result"
    }
   ],
   "source": [
    "13351135 * (1+taux_mensuel)**12"
   ]
  }
 ],
 "metadata": {
  "kernelspec": {
   "display_name": "Python 3",
   "language": "python",
   "name": "python3"
  },
  "language_info": {
   "codemirror_mode": {
    "name": "ipython",
    "version": 3
   },
   "file_extension": ".py",
   "mimetype": "text/x-python",
   "name": "python",
   "nbconvert_exporter": "python",
   "pygments_lexer": "ipython3",
   "version": "3.13.7"
  }
 },
 "nbformat": 4,
 "nbformat_minor": 5
}
